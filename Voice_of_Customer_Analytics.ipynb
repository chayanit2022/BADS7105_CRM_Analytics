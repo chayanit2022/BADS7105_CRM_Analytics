{
  "nbformat": 4,
  "nbformat_minor": 0,
  "metadata": {
    "colab": {
      "name": "Voice of Customer Analytics",
      "provenance": [],
      "collapsed_sections": [],
      "include_colab_link": true
    },
    "kernelspec": {
      "name": "python3",
      "display_name": "Python 3"
    },
    "language_info": {
      "name": "python"
    }
  },
  "cells": [
    {
      "cell_type": "markdown",
      "metadata": {
        "id": "view-in-github",
        "colab_type": "text"
      },
      "source": [
        "<a href=\"https://colab.research.google.com/github/chayanit2022/BADS7105_CRM_Analytics/blob/main/Voice_of_Customer_Analytics.ipynb\" target=\"_parent\"><img src=\"https://colab.research.google.com/assets/colab-badge.svg\" alt=\"Open In Colab\"/></a>"
      ]
    },
    {
      "cell_type": "markdown",
      "metadata": {
        "id": "WrQbd86APp-2"
      },
      "source": [
        "## **Step 0 - install and import dependencies**"
      ]
    },
    {
      "cell_type": "code",
      "metadata": {
        "colab": {
          "base_uri": "https://localhost:8080/"
        },
        "id": "bF2rn-l5Rp4U",
        "outputId": "d204cf07-12b7-48c4-b56c-562b423a71e4"
      },
      "source": [
        "!pip install pythainlp\n",
        "!pip install tensorflow_text\n",
        "!pip install umap-learn"
      ],
      "execution_count": null,
      "outputs": [
        {
          "output_type": "stream",
          "name": "stdout",
          "text": [
            "Collecting pythainlp\n",
            "  Downloading pythainlp-2.3.2-py3-none-any.whl (11.0 MB)\n",
            "\u001b[K     |████████████████████████████████| 11.0 MB 13.6 MB/s \n",
            "\u001b[?25hCollecting python-crfsuite>=0.9.6\n",
            "  Downloading python_crfsuite-0.9.7-cp37-cp37m-manylinux1_x86_64.whl (743 kB)\n",
            "\u001b[K     |████████████████████████████████| 743 kB 55.5 MB/s \n",
            "\u001b[?25hRequirement already satisfied: requests>=2.22.0 in /usr/local/lib/python3.7/dist-packages (from pythainlp) (2.23.0)\n",
            "Collecting tinydb>=3.0\n",
            "  Downloading tinydb-4.5.2-py3-none-any.whl (23 kB)\n",
            "Requirement already satisfied: urllib3!=1.25.0,!=1.25.1,<1.26,>=1.21.1 in /usr/local/lib/python3.7/dist-packages (from requests>=2.22.0->pythainlp) (1.24.3)\n",
            "Requirement already satisfied: certifi>=2017.4.17 in /usr/local/lib/python3.7/dist-packages (from requests>=2.22.0->pythainlp) (2021.10.8)\n",
            "Requirement already satisfied: chardet<4,>=3.0.2 in /usr/local/lib/python3.7/dist-packages (from requests>=2.22.0->pythainlp) (3.0.4)\n",
            "Requirement already satisfied: idna<3,>=2.5 in /usr/local/lib/python3.7/dist-packages (from requests>=2.22.0->pythainlp) (2.10)\n",
            "Requirement already satisfied: typing-extensions<4.0.0,>=3.10.0 in /usr/local/lib/python3.7/dist-packages (from tinydb>=3.0->pythainlp) (3.10.0.2)\n",
            "Installing collected packages: tinydb, python-crfsuite, pythainlp\n",
            "Successfully installed pythainlp-2.3.2 python-crfsuite-0.9.7 tinydb-4.5.2\n",
            "Collecting tensorflow_text\n",
            "  Downloading tensorflow_text-2.7.3-cp37-cp37m-manylinux2010_x86_64.whl (4.9 MB)\n",
            "\u001b[K     |████████████████████████████████| 4.9 MB 11.6 MB/s \n",
            "\u001b[?25hRequirement already satisfied: tensorflow<2.8,>=2.7.0 in /usr/local/lib/python3.7/dist-packages (from tensorflow_text) (2.7.0)\n",
            "Requirement already satisfied: tensorflow-hub>=0.8.0 in /usr/local/lib/python3.7/dist-packages (from tensorflow_text) (0.12.0)\n",
            "Requirement already satisfied: astunparse>=1.6.0 in /usr/local/lib/python3.7/dist-packages (from tensorflow<2.8,>=2.7.0->tensorflow_text) (1.6.3)\n",
            "Requirement already satisfied: six>=1.12.0 in /usr/local/lib/python3.7/dist-packages (from tensorflow<2.8,>=2.7.0->tensorflow_text) (1.15.0)\n",
            "Requirement already satisfied: opt-einsum>=2.3.2 in /usr/local/lib/python3.7/dist-packages (from tensorflow<2.8,>=2.7.0->tensorflow_text) (3.3.0)\n",
            "Requirement already satisfied: gast<0.5.0,>=0.2.1 in /usr/local/lib/python3.7/dist-packages (from tensorflow<2.8,>=2.7.0->tensorflow_text) (0.4.0)\n",
            "Requirement already satisfied: wheel<1.0,>=0.32.0 in /usr/local/lib/python3.7/dist-packages (from tensorflow<2.8,>=2.7.0->tensorflow_text) (0.37.0)\n",
            "Requirement already satisfied: tensorboard~=2.6 in /usr/local/lib/python3.7/dist-packages (from tensorflow<2.8,>=2.7.0->tensorflow_text) (2.7.0)\n",
            "Requirement already satisfied: wrapt>=1.11.0 in /usr/local/lib/python3.7/dist-packages (from tensorflow<2.8,>=2.7.0->tensorflow_text) (1.13.3)\n",
            "Requirement already satisfied: tensorflow-estimator<2.8,~=2.7.0rc0 in /usr/local/lib/python3.7/dist-packages (from tensorflow<2.8,>=2.7.0->tensorflow_text) (2.7.0)\n",
            "Requirement already satisfied: protobuf>=3.9.2 in /usr/local/lib/python3.7/dist-packages (from tensorflow<2.8,>=2.7.0->tensorflow_text) (3.17.3)\n",
            "Requirement already satisfied: numpy>=1.14.5 in /usr/local/lib/python3.7/dist-packages (from tensorflow<2.8,>=2.7.0->tensorflow_text) (1.19.5)\n",
            "Requirement already satisfied: absl-py>=0.4.0 in /usr/local/lib/python3.7/dist-packages (from tensorflow<2.8,>=2.7.0->tensorflow_text) (0.12.0)\n",
            "Requirement already satisfied: keras-preprocessing>=1.1.1 in /usr/local/lib/python3.7/dist-packages (from tensorflow<2.8,>=2.7.0->tensorflow_text) (1.1.2)\n",
            "Requirement already satisfied: keras<2.8,>=2.7.0rc0 in /usr/local/lib/python3.7/dist-packages (from tensorflow<2.8,>=2.7.0->tensorflow_text) (2.7.0)\n",
            "Requirement already satisfied: libclang>=9.0.1 in /usr/local/lib/python3.7/dist-packages (from tensorflow<2.8,>=2.7.0->tensorflow_text) (12.0.0)\n",
            "Requirement already satisfied: google-pasta>=0.1.1 in /usr/local/lib/python3.7/dist-packages (from tensorflow<2.8,>=2.7.0->tensorflow_text) (0.2.0)\n",
            "Requirement already satisfied: termcolor>=1.1.0 in /usr/local/lib/python3.7/dist-packages (from tensorflow<2.8,>=2.7.0->tensorflow_text) (1.1.0)\n",
            "Requirement already satisfied: typing-extensions>=3.6.6 in /usr/local/lib/python3.7/dist-packages (from tensorflow<2.8,>=2.7.0->tensorflow_text) (3.10.0.2)\n",
            "Requirement already satisfied: h5py>=2.9.0 in /usr/local/lib/python3.7/dist-packages (from tensorflow<2.8,>=2.7.0->tensorflow_text) (3.1.0)\n",
            "Requirement already satisfied: flatbuffers<3.0,>=1.12 in /usr/local/lib/python3.7/dist-packages (from tensorflow<2.8,>=2.7.0->tensorflow_text) (2.0)\n",
            "Requirement already satisfied: grpcio<2.0,>=1.24.3 in /usr/local/lib/python3.7/dist-packages (from tensorflow<2.8,>=2.7.0->tensorflow_text) (1.42.0)\n",
            "Requirement already satisfied: tensorflow-io-gcs-filesystem>=0.21.0 in /usr/local/lib/python3.7/dist-packages (from tensorflow<2.8,>=2.7.0->tensorflow_text) (0.22.0)\n",
            "Requirement already satisfied: cached-property in /usr/local/lib/python3.7/dist-packages (from h5py>=2.9.0->tensorflow<2.8,>=2.7.0->tensorflow_text) (1.5.2)\n",
            "Requirement already satisfied: requests<3,>=2.21.0 in /usr/local/lib/python3.7/dist-packages (from tensorboard~=2.6->tensorflow<2.8,>=2.7.0->tensorflow_text) (2.23.0)\n",
            "Requirement already satisfied: setuptools>=41.0.0 in /usr/local/lib/python3.7/dist-packages (from tensorboard~=2.6->tensorflow<2.8,>=2.7.0->tensorflow_text) (57.4.0)\n",
            "Requirement already satisfied: tensorboard-plugin-wit>=1.6.0 in /usr/local/lib/python3.7/dist-packages (from tensorboard~=2.6->tensorflow<2.8,>=2.7.0->tensorflow_text) (1.8.0)\n",
            "Requirement already satisfied: tensorboard-data-server<0.7.0,>=0.6.0 in /usr/local/lib/python3.7/dist-packages (from tensorboard~=2.6->tensorflow<2.8,>=2.7.0->tensorflow_text) (0.6.1)\n",
            "Requirement already satisfied: werkzeug>=0.11.15 in /usr/local/lib/python3.7/dist-packages (from tensorboard~=2.6->tensorflow<2.8,>=2.7.0->tensorflow_text) (1.0.1)\n",
            "Requirement already satisfied: google-auth-oauthlib<0.5,>=0.4.1 in /usr/local/lib/python3.7/dist-packages (from tensorboard~=2.6->tensorflow<2.8,>=2.7.0->tensorflow_text) (0.4.6)\n",
            "Requirement already satisfied: markdown>=2.6.8 in /usr/local/lib/python3.7/dist-packages (from tensorboard~=2.6->tensorflow<2.8,>=2.7.0->tensorflow_text) (3.3.6)\n",
            "Requirement already satisfied: google-auth<3,>=1.6.3 in /usr/local/lib/python3.7/dist-packages (from tensorboard~=2.6->tensorflow<2.8,>=2.7.0->tensorflow_text) (1.35.0)\n",
            "Requirement already satisfied: pyasn1-modules>=0.2.1 in /usr/local/lib/python3.7/dist-packages (from google-auth<3,>=1.6.3->tensorboard~=2.6->tensorflow<2.8,>=2.7.0->tensorflow_text) (0.2.8)\n",
            "Requirement already satisfied: rsa<5,>=3.1.4 in /usr/local/lib/python3.7/dist-packages (from google-auth<3,>=1.6.3->tensorboard~=2.6->tensorflow<2.8,>=2.7.0->tensorflow_text) (4.7.2)\n",
            "Requirement already satisfied: cachetools<5.0,>=2.0.0 in /usr/local/lib/python3.7/dist-packages (from google-auth<3,>=1.6.3->tensorboard~=2.6->tensorflow<2.8,>=2.7.0->tensorflow_text) (4.2.4)\n",
            "Requirement already satisfied: requests-oauthlib>=0.7.0 in /usr/local/lib/python3.7/dist-packages (from google-auth-oauthlib<0.5,>=0.4.1->tensorboard~=2.6->tensorflow<2.8,>=2.7.0->tensorflow_text) (1.3.0)\n",
            "Requirement already satisfied: importlib-metadata>=4.4 in /usr/local/lib/python3.7/dist-packages (from markdown>=2.6.8->tensorboard~=2.6->tensorflow<2.8,>=2.7.0->tensorflow_text) (4.8.2)\n",
            "Requirement already satisfied: zipp>=0.5 in /usr/local/lib/python3.7/dist-packages (from importlib-metadata>=4.4->markdown>=2.6.8->tensorboard~=2.6->tensorflow<2.8,>=2.7.0->tensorflow_text) (3.6.0)\n",
            "Requirement already satisfied: pyasn1<0.5.0,>=0.4.6 in /usr/local/lib/python3.7/dist-packages (from pyasn1-modules>=0.2.1->google-auth<3,>=1.6.3->tensorboard~=2.6->tensorflow<2.8,>=2.7.0->tensorflow_text) (0.4.8)\n",
            "Requirement already satisfied: urllib3!=1.25.0,!=1.25.1,<1.26,>=1.21.1 in /usr/local/lib/python3.7/dist-packages (from requests<3,>=2.21.0->tensorboard~=2.6->tensorflow<2.8,>=2.7.0->tensorflow_text) (1.24.3)\n",
            "Requirement already satisfied: certifi>=2017.4.17 in /usr/local/lib/python3.7/dist-packages (from requests<3,>=2.21.0->tensorboard~=2.6->tensorflow<2.8,>=2.7.0->tensorflow_text) (2021.10.8)\n",
            "Requirement already satisfied: chardet<4,>=3.0.2 in /usr/local/lib/python3.7/dist-packages (from requests<3,>=2.21.0->tensorboard~=2.6->tensorflow<2.8,>=2.7.0->tensorflow_text) (3.0.4)\n",
            "Requirement already satisfied: idna<3,>=2.5 in /usr/local/lib/python3.7/dist-packages (from requests<3,>=2.21.0->tensorboard~=2.6->tensorflow<2.8,>=2.7.0->tensorflow_text) (2.10)\n",
            "Requirement already satisfied: oauthlib>=3.0.0 in /usr/local/lib/python3.7/dist-packages (from requests-oauthlib>=0.7.0->google-auth-oauthlib<0.5,>=0.4.1->tensorboard~=2.6->tensorflow<2.8,>=2.7.0->tensorflow_text) (3.1.1)\n",
            "Installing collected packages: tensorflow-text\n",
            "Successfully installed tensorflow-text-2.7.3\n",
            "Collecting umap-learn\n",
            "  Downloading umap-learn-0.5.2.tar.gz (86 kB)\n",
            "\u001b[K     |████████████████████████████████| 86 kB 4.8 MB/s \n",
            "\u001b[?25hRequirement already satisfied: numpy>=1.17 in /usr/local/lib/python3.7/dist-packages (from umap-learn) (1.19.5)\n",
            "Requirement already satisfied: scikit-learn>=0.22 in /usr/local/lib/python3.7/dist-packages (from umap-learn) (1.0.1)\n",
            "Requirement already satisfied: scipy>=1.0 in /usr/local/lib/python3.7/dist-packages (from umap-learn) (1.4.1)\n",
            "Requirement already satisfied: numba>=0.49 in /usr/local/lib/python3.7/dist-packages (from umap-learn) (0.51.2)\n",
            "Collecting pynndescent>=0.5\n",
            "  Downloading pynndescent-0.5.5.tar.gz (1.1 MB)\n",
            "\u001b[K     |████████████████████████████████| 1.1 MB 37.7 MB/s \n",
            "\u001b[?25hRequirement already satisfied: tqdm in /usr/local/lib/python3.7/dist-packages (from umap-learn) (4.62.3)\n",
            "Requirement already satisfied: llvmlite<0.35,>=0.34.0.dev0 in /usr/local/lib/python3.7/dist-packages (from numba>=0.49->umap-learn) (0.34.0)\n",
            "Requirement already satisfied: setuptools in /usr/local/lib/python3.7/dist-packages (from numba>=0.49->umap-learn) (57.4.0)\n",
            "Requirement already satisfied: joblib>=0.11 in /usr/local/lib/python3.7/dist-packages (from pynndescent>=0.5->umap-learn) (1.1.0)\n",
            "Requirement already satisfied: threadpoolctl>=2.0.0 in /usr/local/lib/python3.7/dist-packages (from scikit-learn>=0.22->umap-learn) (3.0.0)\n",
            "Building wheels for collected packages: umap-learn, pynndescent\n",
            "  Building wheel for umap-learn (setup.py) ... \u001b[?25l\u001b[?25hdone\n",
            "  Created wheel for umap-learn: filename=umap_learn-0.5.2-py3-none-any.whl size=82709 sha256=bd36e38353261c1a66f25cd62aa5a5188e8e47b3dcb2310e74ef5a9cbe15f01b\n",
            "  Stored in directory: /root/.cache/pip/wheels/84/1b/c6/aaf68a748122632967cef4dffef68224eb16798b6793257d82\n",
            "  Building wheel for pynndescent (setup.py) ... \u001b[?25l\u001b[?25hdone\n",
            "  Created wheel for pynndescent: filename=pynndescent-0.5.5-py3-none-any.whl size=52603 sha256=a148c10b064d2e2a782387200c0ca7fda76f280c60c672e2aa240b78a6c7bc91\n",
            "  Stored in directory: /root/.cache/pip/wheels/af/e9/33/04db1436df0757c42fda8ea6796d7a8586e23c85fac355f476\n",
            "Successfully built umap-learn pynndescent\n",
            "Installing collected packages: pynndescent, umap-learn\n",
            "Successfully installed pynndescent-0.5.5 umap-learn-0.5.2\n"
          ]
        }
      ]
    },
    {
      "cell_type": "code",
      "metadata": {
        "id": "7GvuznzISB-h"
      },
      "source": [
        "import numpy as np\n",
        "import pandas as pd\n",
        "import re\n",
        "\n",
        "import tensorflow as tf\n",
        "import tensorflow_hub as hub\n",
        "import tensorflow_text\n",
        "import umap\n",
        "\n",
        "from sklearn.cluster import KMeans\n",
        "import matplotlib.pyplot as plt\n",
        "\n",
        "from sklearn.cluster import AgglomerativeClustering\n",
        "from sklearn.neighbors import kneighbors_graph\n",
        "\n",
        "import pythainlp\n",
        "from pythainlp.corpus.common import thai_words\n",
        "from pythainlp.util import Trie\n",
        "import collections\n"
      ],
      "execution_count": null,
      "outputs": []
    },
    {
      "cell_type": "code",
      "metadata": {
        "id": "fUq1dSYcS5yM"
      },
      "source": [
        "module_url = 'https://tfhub.dev/google/universal-sentence-encoder-multilingual/3' #'https://tfhub.dev/google/universal-sentence-encoder-multilingual/3' for a large model\n",
        "\n",
        "model = hub.load(module_url)"
      ],
      "execution_count": null,
      "outputs": []
    },
    {
      "cell_type": "code",
      "metadata": {
        "id": "dZiaG3R4b6kN"
      },
      "source": [
        "df = pd.read_csv(\"Wongnai Reviews - Small.csv\")"
      ],
      "execution_count": null,
      "outputs": []
    },
    {
      "cell_type": "code",
      "metadata": {
        "colab": {
          "base_uri": "https://localhost:8080/",
          "height": 204
        },
        "id": "gonSv6i4cVs1",
        "outputId": "4af5298a-b0af-4ffc-f2b2-f5d551f63345"
      },
      "source": [
        "df.head()"
      ],
      "execution_count": null,
      "outputs": [
        {
          "output_type": "execute_result",
          "data": {
            "text/html": [
              "<div>\n",
              "<style scoped>\n",
              "    .dataframe tbody tr th:only-of-type {\n",
              "        vertical-align: middle;\n",
              "    }\n",
              "\n",
              "    .dataframe tbody tr th {\n",
              "        vertical-align: top;\n",
              "    }\n",
              "\n",
              "    .dataframe thead th {\n",
              "        text-align: right;\n",
              "    }\n",
              "</style>\n",
              "<table border=\"1\" class=\"dataframe\">\n",
              "  <thead>\n",
              "    <tr style=\"text-align: right;\">\n",
              "      <th></th>\n",
              "      <th>Review ID</th>\n",
              "      <th>Review</th>\n",
              "    </tr>\n",
              "  </thead>\n",
              "  <tbody>\n",
              "    <tr>\n",
              "      <th>0</th>\n",
              "      <td>1</td>\n",
              "      <td>เป็นคนที่ชอบทาน Macchiato เป็นประจำ มีวันนึงเด...</td>\n",
              "    </tr>\n",
              "    <tr>\n",
              "      <th>1</th>\n",
              "      <td>2</td>\n",
              "      <td>Art of Coffee Kasetsart เป็นร้านกาแฟรสชาติเยี่...</td>\n",
              "    </tr>\n",
              "    <tr>\n",
              "      <th>2</th>\n",
              "      <td>3</td>\n",
              "      <td>กวงทะเลเผา อาหารทะเลเค้าสดจริงๆเนื้อปูหวานไม่ค...</td>\n",
              "    </tr>\n",
              "    <tr>\n",
              "      <th>3</th>\n",
              "      <td>4</td>\n",
              "      <td>วันนี้มีโอกาสตื่นเช้าครับเลยถึงโอกาสออกมาหาอะไ...</td>\n",
              "    </tr>\n",
              "    <tr>\n",
              "      <th>4</th>\n",
              "      <td>5</td>\n",
              "      <td>ชอบมาทานร้านนี้ถ้าอยากกินอาหารเวียดนามใกล้บ้าน...</td>\n",
              "    </tr>\n",
              "  </tbody>\n",
              "</table>\n",
              "</div>"
            ],
            "text/plain": [
              "   Review ID                                             Review\n",
              "0          1  เป็นคนที่ชอบทาน Macchiato เป็นประจำ มีวันนึงเด...\n",
              "1          2  Art of Coffee Kasetsart เป็นร้านกาแฟรสชาติเยี่...\n",
              "2          3  กวงทะเลเผา อาหารทะเลเค้าสดจริงๆเนื้อปูหวานไม่ค...\n",
              "3          4  วันนี้มีโอกาสตื่นเช้าครับเลยถึงโอกาสออกมาหาอะไ...\n",
              "4          5  ชอบมาทานร้านนี้ถ้าอยากกินอาหารเวียดนามใกล้บ้าน..."
            ]
          },
          "metadata": {},
          "execution_count": 6
        }
      ]
    },
    {
      "cell_type": "markdown",
      "metadata": {
        "id": "Oowl7VYeP3gK"
      },
      "source": [
        "## **Step 1 - document embedding and dimension reduction**"
      ]
    },
    {
      "cell_type": "code",
      "metadata": {
        "colab": {
          "base_uri": "https://localhost:8080/"
        },
        "id": "e29WZmM4cCOS",
        "outputId": "536edefd-6168-4a4f-bcb8-ab8068fd1509"
      },
      "source": [
        "#embed sentences using Universal Sentence Encoder (USE)\n",
        "\n",
        "embed_comments_array = model(df['Review'].values).numpy()\n",
        "embed_comments_array"
      ],
      "execution_count": null,
      "outputs": [
        {
          "output_type": "execute_result",
          "data": {
            "text/plain": [
              "array([[ 0.08993827,  0.01941084,  0.03787038, ..., -0.03488849,\n",
              "         0.06299512,  0.04635989],\n",
              "       [ 0.00634244,  0.00814594,  0.03071941, ..., -0.01478723,\n",
              "        -0.03080936, -0.03316405],\n",
              "       [ 0.0633687 , -0.02027139, -0.05077003, ..., -0.06530775,\n",
              "        -0.00952999, -0.03439987],\n",
              "       ...,\n",
              "       [ 0.08775924,  0.03609736,  0.01263062, ..., -0.03102781,\n",
              "        -0.03361677,  0.01928871],\n",
              "       [ 0.05691195,  0.05381691, -0.0399575 , ..., -0.06598807,\n",
              "        -0.05390478, -0.01037725],\n",
              "       [ 0.0777048 ,  0.05080631,  0.02680681, ..., -0.0061413 ,\n",
              "        -0.01313567,  0.02236264]], dtype=float32)"
            ]
          },
          "metadata": {},
          "execution_count": 7
        }
      ]
    },
    {
      "cell_type": "code",
      "metadata": {
        "id": "5gps1fE8ctMQ",
        "colab": {
          "base_uri": "https://localhost:8080/"
        },
        "outputId": "f2f080f5-aced-4aac-8026-75f6fbefb0d7"
      },
      "source": [
        "#reduce array dimensions using umap (you can chagne n_components)\n",
        "\n",
        "reducer = umap.UMAP(random_state=42,n_components=50)\n",
        "umap_embed_comments_array = reducer.fit_transform(embed_comments_array)"
      ],
      "execution_count": null,
      "outputs": [
        {
          "output_type": "stream",
          "name": "stderr",
          "text": [
            "/usr/local/lib/python3.7/dist-packages/numba/np/ufunc/parallel.py:363: NumbaWarning: The TBB threading layer requires TBB version 2019.5 or later i.e., TBB_INTERFACE_VERSION >= 11005. Found TBB_INTERFACE_VERSION = 9107. The TBB threading layer is disabled.\n",
            "  warnings.warn(problem)\n"
          ]
        }
      ]
    },
    {
      "cell_type": "markdown",
      "metadata": {
        "id": "s5qq2RQlQJbV"
      },
      "source": [
        "## **Step 2 - document clustering using KMeans**"
      ]
    },
    {
      "cell_type": "code",
      "metadata": {
        "colab": {
          "base_uri": "https://localhost:8080/",
          "height": 312
        },
        "id": "2IkMb1UIF3k5",
        "outputId": "97b19076-b9f9-42fa-c1f0-b53b86d00083"
      },
      "source": [
        "#run kmeans with various number of k. evaluate no. of k based on the elbow plot\n",
        "\n",
        "wcss=[]\n",
        "max_k = 10\n",
        "for i in range(1, max_k):\n",
        "  kmeans = KMeans(i)\n",
        "  kmeans.fit(umap_embed_comments_array)\n",
        "  wcss_iter = kmeans.inertia_\n",
        "  wcss.append(wcss_iter)\n",
        "\n",
        "number_clusters = range(1, max_k)\n",
        "plt.plot(number_clusters,wcss)\n",
        "plt.title('The Elbow title')\n",
        "plt.xlabel('Number of clusters')\n",
        "plt.ylabel('WCSS')"
      ],
      "execution_count": null,
      "outputs": [
        {
          "output_type": "execute_result",
          "data": {
            "text/plain": [
              "Text(0, 0.5, 'WCSS')"
            ]
          },
          "metadata": {},
          "execution_count": 9
        },
        {
          "output_type": "display_data",
          "data": {
            "image/png": "[encoded data removed]",
            "text/plain": [
              "<Figure size 432x288 with 1 Axes>"
            ]
          },
          "metadata": {
            "needs_background": "light"
          }
        }
      ]
    },
    {
      "cell_type": "code",
      "metadata": {
        "id": "1o0czkMVdSJ5"
      },
      "source": [
        "#run kmeans with no. of clusters you see fit the most\n",
        "\n",
        "k = 4\n",
        "\n",
        "kmeans = KMeans(n_clusters = k)\n",
        "kmeans.fit(umap_embed_comments_array)\n",
        "\n",
        "df['KMeans ID'] = kmeans.labels_"
      ],
      "execution_count": null,
      "outputs": []
    },
    {
      "cell_type": "code",
      "metadata": {
        "id": "bf3R2QBr3oOq"
      },
      "source": [
        "#merge all reviews of each cluster into one big sentence \n",
        "\n",
        "df_kmeans = pd.DataFrame(columns=[\"KMeans ID\", \"texts\"])\n",
        "\n",
        "\n",
        "for i in range(0, k):\n",
        "  row = []\n",
        "  row.append(i)\n",
        "  row.append(df['Review'][df['KMeans ID'] == i].to_string())\n",
        "  df_kmeans.loc[len(df_kmeans)] = row"
      ],
      "execution_count": null,
      "outputs": []
    },
    {
      "cell_type": "code",
      "metadata": {
        "colab": {
          "base_uri": "https://localhost:8080/",
          "height": 173
        },
        "id": "UFo_nqQEL08U",
        "outputId": "c936fafb-4df0-43a0-d4e8-a45f926197fc"
      },
      "source": [
        "df_kmeans"
      ],
      "execution_count": null,
      "outputs": [
        {
          "output_type": "execute_result",
          "data": {
            "text/html": [
              "<div>\n",
              "<style scoped>\n",
              "    .dataframe tbody tr th:only-of-type {\n",
              "        vertical-align: middle;\n",
              "    }\n",
              "\n",
              "    .dataframe tbody tr th {\n",
              "        vertical-align: top;\n",
              "    }\n",
              "\n",
              "    .dataframe thead th {\n",
              "        text-align: right;\n",
              "    }\n",
              "</style>\n",
              "<table border=\"1\" class=\"dataframe\">\n",
              "  <thead>\n",
              "    <tr style=\"text-align: right;\">\n",
              "      <th></th>\n",
              "      <th>KMeans ID</th>\n",
              "      <th>texts</th>\n",
              "    </tr>\n",
              "  </thead>\n",
              "  <tbody>\n",
              "    <tr>\n",
              "      <th>0</th>\n",
              "      <td>0</td>\n",
              "      <td>3      วันนี้มีโอกาสตื่นเช้าครับเลยถึงโอกาสออก...</td>\n",
              "    </tr>\n",
              "    <tr>\n",
              "      <th>1</th>\n",
              "      <td>1</td>\n",
              "      <td>13     เคยเป็นไหมกันไหมคะ หลังอาหารมื้อใหญ่ ต่...</td>\n",
              "    </tr>\n",
              "    <tr>\n",
              "      <th>2</th>\n",
              "      <td>2</td>\n",
              "      <td>2      กวงทะเลเผา อาหารทะเลเค้าสดจริงๆเนื้อปูห...</td>\n",
              "    </tr>\n",
              "    <tr>\n",
              "      <th>3</th>\n",
              "      <td>3</td>\n",
              "      <td>0      เป็นคนที่ชอบทาน Macchiato เป็นประจำ มีว...</td>\n",
              "    </tr>\n",
              "  </tbody>\n",
              "</table>\n",
              "</div>"
            ],
            "text/plain": [
              "  KMeans ID                                              texts\n",
              "0         0  3      วันนี้มีโอกาสตื่นเช้าครับเลยถึงโอกาสออก...\n",
              "1         1  13     เคยเป็นไหมกันไหมคะ หลังอาหารมื้อใหญ่ ต่...\n",
              "2         2  2      กวงทะเลเผา อาหารทะเลเค้าสดจริงๆเนื้อปูห...\n",
              "3         3  0      เป็นคนที่ชอบทาน Macchiato เป็นประจำ มีว..."
            ]
          },
          "metadata": {},
          "execution_count": 12
        }
      ]
    },
    {
      "cell_type": "code",
      "metadata": {
        "id": "JydvwIz5NcaI"
      },
      "source": [
        "#create regex compiler for removal of a character you don't want\n",
        "\n",
        "special_characters = \"/[!@#$%^&*']/g\"\n",
        "\n",
        "specialchar_pattern = re.compile(special_characters)"
      ],
      "execution_count": null,
      "outputs": []
    },
    {
      "cell_type": "code",
      "metadata": {
        "id": "R8ymEA_2EhGi"
      },
      "source": [
        "#create regex compiler for removal of any emoji\n",
        "\n",
        "emoji_pattern = re.compile(\"[\"\n",
        "        u\"\\U0001F600-\\U0001F64F\"  # emoticons\n",
        "        u\"\\U0001F300-\\U0001F5FF\"  # symbols & pictographs\n",
        "        u\"\\U0001F680-\\U0001F6FF\"  # transport & map symbols\n",
        "        u\"\\U0001F1E0-\\U0001F1FF\"  # flags (iOS)\n",
        "                           \"]+\", flags=re.UNICODE)"
      ],
      "execution_count": null,
      "outputs": []
    },
    {
      "cell_type": "code",
      "metadata": {
        "id": "9Q93YKJZK5ak"
      },
      "source": [
        "#create regex compiler for removal of digit\n",
        "\n",
        "number_pattern = re.compile(\"[0-9]\")"
      ],
      "execution_count": null,
      "outputs": []
    },
    {
      "cell_type": "code",
      "metadata": {
        "id": "sHZ0HKlXNeSi"
      },
      "source": [
        "#create regex compiler for removal of white space\n",
        "\n",
        "space_pattern = re.compile(\"\\s+\")"
      ],
      "execution_count": null,
      "outputs": []
    },
    {
      "cell_type": "code",
      "metadata": {
        "id": "-orHzqLkNupd"
      },
      "source": [
        "#create regex compiler for removal of .\n",
        "\n",
        "dot_pattern = re.compile(r\"\\.+\")"
      ],
      "execution_count": null,
      "outputs": []
    },
    {
      "cell_type": "code",
      "metadata": {
        "id": "v7bW9th9N7oG"
      },
      "source": [
        "#create regex compiler for removal of \\\n",
        "\n",
        "backslash_pattern = re.compile(r\"\\\\+\")"
      ],
      "execution_count": null,
      "outputs": []
    },
    {
      "cell_type": "code",
      "metadata": {
        "id": "ZGVvQhZz4tGs"
      },
      "source": [
        "#define a function to tokenize a sentence into words - you can define words you want to remove as well as new words for tokenization\n",
        "\n",
        "stopwords = list(pythainlp.corpus.thai_stopwords())\n",
        "removed_words = ['u', 'b', 'n', 'nn', 'nn-', '\\n', 'ร้าน', 'อร่อย', 'ทาน', 'กิน', 'กก', 'น', 'ซอย', 'ผม', 'รีวิว', 'ถนน', 'ชอบ', 'บ้าน', 'เจอ', 'คน', 'นึง', 'ซื้อ', 'สวัสดี', 'ราคา', 'แวะ', 'น่ารัก', 'ลอง', 'เดิน', 'เพื่อน', 'คิว', 'ครั้งแรก', 'นะคะ', 'หา', 'เลือก', 'มีโอกาส', 'ดี', 'สาขา', 'เช้า', 'ไหม', 'อ', 'ตั้งอยู่', 'โอกาส',\n",
        "                 'สะดุดตา', 'ปากซอย', 'เค้า', 'ดาว', 'รู้จัก', 'แถว', 'กา', 'ศ', 'เกริ่น', 'ๆๆ', 'บอ', 'เมนู', 'เก', 'เค', 'สำหรับ', 'อย่า', 'พูดถึง', 'ชื่อ', 'เวลา', 'คุง', 'เด็ด', 'เป็ร้าน', 'ค', 'นิว', 'ร้า',\n",
        "                  'ยา', 'แนว', 'ขาย', 'บรรยากาศ', 'นั่ง', 'ไปมา', 'เก่าแก่', 'ชั้น', 'ปีใหม่', 'รอบ', 'เด','ก',':','รสชาติ','เติม','ดีล', 'ส', 'ร','Aprilstore','สยาม','หัวหิน', 'รี่','สไตล์','ท','กร้าน','าน',\n",
        "                  'ข','ห','ไร้','แพง','แซ่บ','ขา','อี','สา','ชล','อาศัย','รอ','รา','มาถึง','พัก','วัง','นขา','อย','เ','สุขุมวิท','ขับรถ','เข้ามา','(','หลากหลาย','จิบ','สะอาด',\n",
        "                 'ตกแต่ง','โต๊ะ','รส','เผ็ด','เบอ','อา','ข้าม','นึกถึง','จ','ริ','พญาไท','เดือน','อิ่ม','ห้าง','รถ','เซ็นทรัล','พระราม','ประ','เหมือน','กวง','มาจาก','นอ','แคนยอน','เล','เดินผ่าน',\n",
        "                 'ทะเล','เผา','สด','ไปหา','นั่งเล่น','ชิล','ที่มา','เร้า','เก้าอี้','ไ','ป','คลาสสิค','ติดกับ','เด่น','นึก','โซน','ร่ำ','พี่ชาย','จังหวัด','ตระเวน','ทรู','ไข่','หวาน','เป็นประจำ','สมาชิก']\n",
        "screening_words = stopwords + removed_words\n",
        "\n",
        "new_words = {\"สตารบัก\", 'ปลาร้า', 'อาหารทะเล', 'เนื้อปู','ร้านค้า', 'ชานมไขมุก', 'ชานม', 'อากาศ', 'ชานมไต้หวัน', 'ชาไต้หวัน', 'ส้มตำไทย', 'อาหารไทย', 'อากาศ', 'อเมซอน', 'ยำแซ่บ', 'เป็ดห่านพะโล้',\n",
        "              'เป๋ดย่าง', 'ห่าน', 'หัวหิน','ขาหมู','อาหารญี่ปุ่น','ชาไข่มุก'}\n",
        "\n",
        "words = new_words.union(thai_words())\n",
        "\n",
        "custom_dictionary_trie = Trie(words)\n",
        "\n",
        "def tokenize_to_list(sentence):\n",
        "  merged = []\n",
        "  words = pythainlp.word_tokenize(str(sentence), engine='newmm', custom_dict=custom_dictionary_trie)\n",
        "  for word in words:\n",
        "    if word not in screening_words:\n",
        "      merged.append(word)\n",
        "  return merged"
      ],
      "execution_count": null,
      "outputs": []
    },
    {
      "cell_type": "code",
      "metadata": {
        "id": "MnN1ekEoL9ug"
      },
      "source": [
        "#clean and tokenize sentences. count the occurences of each word\n",
        "\n",
        "df_kmeans['texts'] = df_kmeans['texts'].apply(lambda x: emoji_pattern.sub(r'', x))\n",
        "df_kmeans['texts'] = df_kmeans['texts'].apply(lambda x: specialchar_pattern.sub(r'', x))\n",
        "df_kmeans['texts'] = df_kmeans['texts'].apply(lambda x: number_pattern.sub(r'', x))\n",
        "df_kmeans['texts'] = df_kmeans['texts'].apply(lambda x: space_pattern.sub(r'', x))\n",
        "df_kmeans['texts'] = df_kmeans['texts'].apply(lambda x: dot_pattern.sub(r'', x))\n",
        "df_kmeans['texts'] = df_kmeans['texts'].apply(lambda x: backslash_pattern.sub(r'', x))\n",
        "df_kmeans['texts_tokenized'] = df_kmeans['texts'].apply(lambda x: tokenize_to_list(x))\n",
        "df_kmeans['texts_count'] = df_kmeans['texts_tokenized'].apply(lambda x: collections.Counter(x).most_common())"
      ],
      "execution_count": null,
      "outputs": []
    },
    {
      "cell_type": "code",
      "metadata": {
        "colab": {
          "base_uri": "https://localhost:8080/"
        },
        "id": "n0LZ5H8_Dqvn",
        "outputId": "ef56b47f-a00a-4930-9cb9-6e09df8642d0"
      },
      "source": [
        "#show top keywords of each cluster\n",
        "\n",
        "top_N_words = 10\n",
        "\n",
        "for i in range(0, len(df_kmeans)):\n",
        "  print(f\"Cluster ID : {i}\\n\")\n",
        "  print(f\"Most common words include : {list(df_kmeans['texts_count'][i])[:top_N_words]}\\n\")\n",
        "\n",
        "#tune a model by remove unwanted characters and words and add more words to a custom dictionary"
      ],
      "execution_count": null,
      "outputs": [
        {
          "output_type": "stream",
          "name": "stdout",
          "text": [
            "Cluster ID : 0\n",
            "\n",
            "Most common words include : [('ร้านกาแฟ', 5), ('กาแฟ', 5), ('อาหาร', 4), ('ร้านอาหาร', 4), ('น้ำ', 3), ('ไอติม', 2), ('ขนมปัง', 2), ('ส้มตำ', 2), ('ก๋วยเตี๋ยว', 2), ('สั่ง', 2)]\n",
            "\n",
            "Cluster ID : 1\n",
            "\n",
            "Most common words include : [('ชานม', 11), ('ไข่มุก', 10), ('เครื่องดื่ม', 4), ('ชาไข่มุก', 4), ('ชา', 3), ('นม', 3), ('ไต้หวัน', 3), ('ชาเขียว', 2), ('Ochaya', 2), ('ของหวาน', 2)]\n",
            "\n",
            "Cluster ID : 2\n",
            "\n",
            "Most common words include : [('ร้านอาหาร', 8), ('อาหาร', 5), ('ส้มตำ', 4), ('อาหารไทย', 3), ('กาแฟ', 3), ('ยำแซ่บ', 2), ('เป็ด', 2), ('อาหารทะเล', 1), ('เนื้อปู', 1), ('Wongna', 1)]\n",
            "\n",
            "Cluster ID : 3\n",
            "\n",
            "Most common words include : [('ร้านกาแฟ', 22), ('กาแฟ', 19), ('คาเฟ่', 6), ('เบเกอรี่', 4), ('พาย', 4), ('อเมซอน', 4), ('เค้ก', 3), ('อาหาร', 3), ('Macchiato', 1), ('ArtofCoffeeKasetsart', 1)]\n",
            "\n"
          ]
        }
      ]
    },
    {
      "cell_type": "code",
      "metadata": {
        "colab": {
          "base_uri": "https://localhost:8080/",
          "height": 419
        },
        "id": "-rwjRig3HlhZ",
        "outputId": "929e9ff8-c65f-48d5-a1d3-8086d40148f4"
      },
      "source": [
        "df[df[\"Review\"].str.contains(\"ไข่\")]"
      ],
      "execution_count": null,
      "outputs": [
        {
          "output_type": "execute_result",
          "data": {
            "text/html": [
              "<div>\n",
              "<style scoped>\n",
              "    .dataframe tbody tr th:only-of-type {\n",
              "        vertical-align: middle;\n",
              "    }\n",
              "\n",
              "    .dataframe tbody tr th {\n",
              "        vertical-align: top;\n",
              "    }\n",
              "\n",
              "    .dataframe thead th {\n",
              "        text-align: right;\n",
              "    }\n",
              "</style>\n",
              "<table border=\"1\" class=\"dataframe\">\n",
              "  <thead>\n",
              "    <tr style=\"text-align: right;\">\n",
              "      <th></th>\n",
              "      <th>Review ID</th>\n",
              "      <th>Review</th>\n",
              "      <th>KMeans ID</th>\n",
              "      <th>Agglomerative ID</th>\n",
              "    </tr>\n",
              "  </thead>\n",
              "  <tbody>\n",
              "    <tr>\n",
              "      <th>2</th>\n",
              "      <td>3</td>\n",
              "      <td>กวงทะเลเผา อาหารทะเลเค้าสดจริงๆเนื้อปูหวานไม่ค...</td>\n",
              "      <td>2</td>\n",
              "      <td>0</td>\n",
              "    </tr>\n",
              "    <tr>\n",
              "      <th>6</th>\n",
              "      <td>7</td>\n",
              "      <td>สวัสดีเพื่อนๆสมาชิกนักรีวิวร้านอาหารชาว Wongna...</td>\n",
              "      <td>2</td>\n",
              "      <td>0</td>\n",
              "    </tr>\n",
              "    <tr>\n",
              "      <th>13</th>\n",
              "      <td>14</td>\n",
              "      <td>เคยเป็นไหมกันไหมคะ หลังอาหารมื้อใหญ่ ต่อให้อิ่...</td>\n",
              "      <td>1</td>\n",
              "      <td>0</td>\n",
              "    </tr>\n",
              "    <tr>\n",
              "      <th>25</th>\n",
              "      <td>26</td>\n",
              "      <td>มีคนแนะนำมาว่าต้องร้านนี้ \\nเลยขอลองสักหน่อย ไ...</td>\n",
              "      <td>2</td>\n",
              "      <td>0</td>\n",
              "    </tr>\n",
              "    <tr>\n",
              "      <th>29</th>\n",
              "      <td>30</td>\n",
              "      <td>เป็นร้านเครื่องดื่มขนาดกระทัดรัด พื้นที่น้อย เ...</td>\n",
              "      <td>1</td>\n",
              "      <td>0</td>\n",
              "    </tr>\n",
              "    <tr>\n",
              "      <th>...</th>\n",
              "      <td>...</td>\n",
              "      <td>...</td>\n",
              "      <td>...</td>\n",
              "      <td>...</td>\n",
              "    </tr>\n",
              "    <tr>\n",
              "      <th>286</th>\n",
              "      <td>287</td>\n",
              "      <td>สวัสดีค่ะ ชื่อร้านนี้อาจจะน่ากลัวสักหน่อยนะคะ ...</td>\n",
              "      <td>0</td>\n",
              "      <td>0</td>\n",
              "    </tr>\n",
              "    <tr>\n",
              "      <th>287</th>\n",
              "      <td>288</td>\n",
              "      <td>มา Ochaya สั่งแบบเมนู basic เลย ชานมไข่มุก ราค...</td>\n",
              "      <td>1</td>\n",
              "      <td>0</td>\n",
              "    </tr>\n",
              "    <tr>\n",
              "      <th>289</th>\n",
              "      <td>290</td>\n",
              "      <td>อร่อยดีครับ เพิ่งมาครั้งแรกขับรถหลงๆ มาเห็นร้า...</td>\n",
              "      <td>2</td>\n",
              "      <td>0</td>\n",
              "    </tr>\n",
              "    <tr>\n",
              "      <th>291</th>\n",
              "      <td>292</td>\n",
              "      <td>ร้านนี้เป็นหนึ่งในความตั้งใจว่า อยากจะทำเรื่อง...</td>\n",
              "      <td>0</td>\n",
              "      <td>0</td>\n",
              "    </tr>\n",
              "    <tr>\n",
              "      <th>293</th>\n",
              "      <td>294</td>\n",
              "      <td>ร้านนี้หาไม่ยากครับ อยู่ที่ปากซอย6 ถนนนิมมาน \\...</td>\n",
              "      <td>0</td>\n",
              "      <td>0</td>\n",
              "    </tr>\n",
              "  </tbody>\n",
              "</table>\n",
              "<p>83 rows × 4 columns</p>\n",
              "</div>"
            ],
            "text/plain": [
              "     Review ID  ... Agglomerative ID\n",
              "2            3  ...                0\n",
              "6            7  ...                0\n",
              "13          14  ...                0\n",
              "25          26  ...                0\n",
              "29          30  ...                0\n",
              "..         ...  ...              ...\n",
              "286        287  ...                0\n",
              "287        288  ...                0\n",
              "289        290  ...                0\n",
              "291        292  ...                0\n",
              "293        294  ...                0\n",
              "\n",
              "[83 rows x 4 columns]"
            ]
          },
          "metadata": {},
          "execution_count": 353
        }
      ]
    },
    {
      "cell_type": "code",
      "metadata": {
        "colab": {
          "base_uri": "https://localhost:8080/",
          "height": 173
        },
        "id": "G0jG1yO889B2",
        "outputId": "f5a220ec-fa87-4b4e-dfd6-62cd2bf6cca7"
      },
      "source": [
        "#results of tokenization\n",
        "\n",
        "df_kmeans"
      ],
      "execution_count": null,
      "outputs": [
        {
          "output_type": "execute_result",
          "data": {
            "text/html": [
              "<div>\n",
              "<style scoped>\n",
              "    .dataframe tbody tr th:only-of-type {\n",
              "        vertical-align: middle;\n",
              "    }\n",
              "\n",
              "    .dataframe tbody tr th {\n",
              "        vertical-align: top;\n",
              "    }\n",
              "\n",
              "    .dataframe thead th {\n",
              "        text-align: right;\n",
              "    }\n",
              "</style>\n",
              "<table border=\"1\" class=\"dataframe\">\n",
              "  <thead>\n",
              "    <tr style=\"text-align: right;\">\n",
              "      <th></th>\n",
              "      <th>KMeans ID</th>\n",
              "      <th>texts</th>\n",
              "      <th>texts_tokenized</th>\n",
              "      <th>texts_count</th>\n",
              "    </tr>\n",
              "  </thead>\n",
              "  <tbody>\n",
              "    <tr>\n",
              "      <th>0</th>\n",
              "      <td>0</td>\n",
              "      <td>วันนี้มีโอกาสตื่นเช้าครับเลยถึงโอกาสออกมาหาอะไ...</td>\n",
              "      <td>[ตื่น, โอกาส, มาหา, อะ, ไช, อบ, อาหาร, เวียดนา...</td>\n",
              "      <td>[(ร้านกาแฟ, 5), (กาแฟ, 5), (อาหาร, 4), (ร้านอา...</td>\n",
              "    </tr>\n",
              "    <tr>\n",
              "      <th>1</th>\n",
              "      <td>1</td>\n",
              "      <td>เคยเป็นไหมกันไหมคะหลังอาหารมื้อใหญ่ต่อให้อิ่เช...</td>\n",
              "      <td>[ไหม, ไหม, หลังอาหาร, มื้อ, ต่อให้, อิ่, บ่าย,...</td>\n",
              "      <td>[(ไข่มุก, 14), (ชานม, 11), (ชา, 7), (เครื่องดื...</td>\n",
              "    </tr>\n",
              "    <tr>\n",
              "      <th>2</th>\n",
              "      <td>2</td>\n",
              "      <td>กวงทะเลเผาอาหารทะเลเค้าสดจริงๆเนื้อปูหวานไม่คส...</td>\n",
              "      <td>[กวง, ทะเล, เผา, อาหารทะเล, เค้า, สด, เนื้อปู,...</td>\n",
              "      <td>[(ร้านอาหาร, 9), (อาหาร, 5), (ส้มตำ, 4), (แซ่บ...</td>\n",
              "    </tr>\n",
              "    <tr>\n",
              "      <th>3</th>\n",
              "      <td>3</td>\n",
              "      <td>เป็นคนที่ชอบทานMacchiatoเป็นประจำมีวันนึงเดArt...</td>\n",
              "      <td>[Macchiato, เป็นประจำ, เด, ArtofCoffeeKasetsar...</td>\n",
              "      <td>[(ร้านกาแฟ, 22), (กาแฟ, 19), (คาเฟ่, 6), (นั่ง...</td>\n",
              "    </tr>\n",
              "  </tbody>\n",
              "</table>\n",
              "</div>"
            ],
            "text/plain": [
              "  KMeans ID  ...                                        texts_count\n",
              "0         0  ...  [(ร้านกาแฟ, 5), (กาแฟ, 5), (อาหาร, 4), (ร้านอา...\n",
              "1         1  ...  [(ไข่มุก, 14), (ชานม, 11), (ชา, 7), (เครื่องดื...\n",
              "2         2  ...  [(ร้านอาหาร, 9), (อาหาร, 5), (ส้มตำ, 4), (แซ่บ...\n",
              "3         3  ...  [(ร้านกาแฟ, 22), (กาแฟ, 19), (คาเฟ่, 6), (นั่ง...\n",
              "\n",
              "[4 rows x 4 columns]"
            ]
          },
          "metadata": {},
          "execution_count": 118
        }
      ]
    },
    {
      "cell_type": "markdown",
      "metadata": {
        "id": "9Qe8TReCQTOo"
      },
      "source": [
        "# **Step 3 - document clustering using Agglomorative Clustering with cosine similarity**"
      ]
    },
    {
      "cell_type": "code",
      "metadata": {
        "id": "VWgW-tCkcPgU"
      },
      "source": [
        "#clustering using agglomorative clustering\n",
        "\n",
        "knn_graph = kneighbors_graph(embed_comments_array, 5, include_self=False)\n",
        "model = AgglomerativeClustering(linkage=\"average\", connectivity=knn_graph, n_clusters=10, affinity=\"cosine\")\n",
        "model.fit(embed_comments_array)\n",
        "df['Agglomerative ID'] = model.labels_"
      ],
      "execution_count": null,
      "outputs": []
    },
    {
      "cell_type": "code",
      "metadata": {
        "id": "XHfsJyL8dmGC"
      },
      "source": [
        "#merge all reviews of each cluster into one big sentence \n",
        "\n",
        "df_Agglomerative = pd.DataFrame(columns=[\"Agglomerative ID\", \"texts\"])\n",
        "\n",
        "\n",
        "for i in range(0, k):\n",
        "  row = []\n",
        "  row.append(i)\n",
        "  row.append(str(df['Review'][df['Agglomerative ID'] == i].tolist()))\n",
        "  df_Agglomerative.loc[len(df_Agglomerative)] = row"
      ],
      "execution_count": null,
      "outputs": []
    },
    {
      "cell_type": "code",
      "metadata": {
        "id": "7hsSbTWvdtK2"
      },
      "source": [
        "#clean and tokenize sentences. count the occurences of each word\n",
        "\n",
        "df_Agglomerative['texts'] = df_Agglomerative['texts'].apply(lambda x: emoji_pattern.sub(r'', x))\n",
        "df_Agglomerative['texts'] = df_Agglomerative['texts'].apply(lambda x: specialchar_pattern.sub(r'', x))\n",
        "df_Agglomerative['texts'] = df_Agglomerative['texts'].apply(lambda x: number_pattern.sub(r'', x))\n",
        "df_Agglomerative['texts'] = df_Agglomerative['texts'].apply(lambda x: space_pattern.sub(r'', x))\n",
        "df_Agglomerative['texts'] = df_Agglomerative['texts'].apply(lambda x: dot_pattern.sub(r'', x))\n",
        "df_Agglomerative['texts'] = df_Agglomerative['texts'].apply(lambda x: backslash_pattern.sub(r'', x))\n",
        "df_Agglomerative['texts_tokenized'] = df_Agglomerative['texts'].apply(lambda x: tokenize_to_list(x))\n",
        "df_Agglomerative['texts_count'] = df_Agglomerative['texts_tokenized'].apply(lambda x: collections.Counter(x).most_common())"
      ],
      "execution_count": null,
      "outputs": []
    },
    {
      "cell_type": "code",
      "metadata": {
        "colab": {
          "base_uri": "https://localhost:8080/"
        },
        "id": "HsRWk5oHd0UH",
        "outputId": "a103d53f-6619-481f-f9d6-68f6f28ce46d"
      },
      "source": [
        "#show top keywords of each cluster\n",
        "\n",
        "top_N_words = 10\n",
        "\n",
        "for i in range(0, len(df_Agglomerative)):\n",
        "  print(f\"Cluster ID : {i}\\n\")\n",
        "  print(f\"Most common words include : {list(df_Agglomerative['texts_count'][i])[:top_N_words]}\\n\")"
      ],
      "execution_count": null,
      "outputs": [
        {
          "output_type": "stream",
          "name": "stdout",
          "text": [
            "Cluster ID : 0\n",
            "\n",
            "Most common words include : [('รสชาติ', 407), ('ดี', 347), ('กาแฟ', 311), ('เมนู', 309), ('สั่ง', 301), ('อาหาร', 285), ('ราคา', 273), ('(', 270), ('ชา', 262), (')', 250)]\n",
            "\n",
            "Cluster ID : 1\n",
            "\n",
            "Most common words include : [('แตงโม', 22), ('น้ำ', 8), ('ปั่น', 6), ('เนื้อ', 6), ('เลือก', 4), ('ซื้อ', 4), ('ดื่ม', 4), ('พันธุ์', 3), ('รับประทาน', 3), ('แก้', 3)]\n",
            "\n",
            "Cluster ID : 2\n",
            "\n",
            "Most common words include : [('ดิชั้น', 4), ('แย่มาก', 3), ('โต๊ะ', 2), ('รอง', 2), ('แก้ว', 2), (\"['\", 1), ('ดิ', 1), ('ช้ัน', 1), ('ทบ', 1), ('อาหาร', 1)]\n",
            "\n",
            "Cluster ID : 3\n",
            "\n",
            "Most common words include : [('นม', 3), ('แน่น', 2), ('tamp', 2), ('เท', 2), ('แก้', 2), (\"['\", 1), ('เรื่อง', 1), ('ขนม', 1), ('สันทัด', 1), ('ดังนั้น', 1)]\n",
            "\n"
          ]
        }
      ]
    },
    {
      "cell_type": "markdown",
      "metadata": {
        "id": "3aNJxg2ATtmK"
      },
      "source": [
        "## **Step 4 - result discussion**"
      ]
    },
    {
      "cell_type": "markdown",
      "metadata": {
        "id": "_Qrgo8tLXj3o"
      },
      "source": [
        "**ใช้K-means,ให้K=4**\n",
        "\n",
        "\n",
        "\n",
        "**remove word ***\n",
        "\n",
        "\n",
        " ['u', 'b', 'n', 'nn', 'nn-', '\\n', 'ร้าน', 'อร่อย', 'ทาน', 'กิน', 'กก', 'น', 'ซอย', 'ผม', 'รีวิว', 'ถนน', 'ชอบ', 'บ้าน', 'เจอ', 'คน', 'นึง', 'ซื้อ', 'สวัสดี', 'ราคา', 'แวะ', 'น่ารัก', 'ลอง', 'เดิน', 'เพื่อน', 'คิว', 'ครั้งแรก', 'นะคะ', 'หา', 'เลือก', 'มีโอกาส', 'ดี', 'สาขา', 'เช้า', 'ไหม', 'อ', 'ตั้งอยู่', 'โอกาส',\n",
        "                 'สะดุดตา', 'ปากซอย', 'เค้า', 'ดาว', 'รู้จัก', 'แถว', 'กา', 'ศ', 'เกริ่น', 'ๆๆ', 'บอ', 'เมนู', 'เก', 'เค', 'สำหรับ', 'อย่า', 'พูดถึง', 'ชื่อ', 'เวลา', 'คุง', 'เด็ด', 'เป็ร้าน', 'ค', 'นิว', 'ร้า',\n",
        "                  'ยา', 'แนว', 'ขาย', 'บรรยากาศ', 'นั่ง', 'ไปมา', 'เก่าแก่', 'ชั้น', 'ปีใหม่', 'รอบ', 'เด','ก',':','รสชาติ','เติม','ดีล', 'ส', 'ร','Aprilstore','สยาม','หัวหิน', 'รี่','สไตล์','ท','กร้าน','าน',\n",
        "                  'ข','ห','ไร้','แพง','แซ่บ','ขา','อี','สา','ชล','อาศัย','รอ','รา','มาถึง','พัก','วัง','นขา','อย','เ','สุขุมวิท','ขับรถ','เข้ามา','(','หลากหลาย','จิบ','สะอาด',\n",
        "                 'ตกแต่ง','โต๊ะ','รส','เผ็ด','เบอ','อา','ข้าม','นึกถึง','จ','ริ','พญาไท','เดือน','อิ่ม','ห้าง','รถ','เซ็นทรัล','พระราม','ประ','เหมือน','กวง','มาจาก','นอ','แคนยอน','เล','เดินผ่าน',\n",
        "                 'ทะเล','เผา','สด','ไปหา','นั่งเล่น','ชิล','ที่มา','เร้า','เก้าอี้','ไ','ป','คลาสสิค','ติดกับ','เด่น','นึก','โซน','ร่ำ','พี่ชาย','จังหวัด','ตระเวน','ทรู','ไข่','หวาน','เป็นประจำ','สมาชิก']\n",
        "ื\n",
        "\n",
        "**new word ***\n",
        "\n",
        "{\"สตารบัก\", 'ปลาร้า', 'อาหารทะเล', 'เนื้อปู','ร้านค้า', 'ชานมไขมุก', 'ชานม', 'อากาศ', 'ชานมไต้หวัน', 'ชาไต้หวัน', 'ส้มตำไทย', 'อาหารไทย', 'อากาศ', 'อเมซอน', 'ยำแซ่บ', 'เป็ดห่านพะโล้','เป๋ดย่าง', 'ห่าน', 'หัวหิน','ขาหมู','อาหารญี่ปุ่น','ชาไข่มุก'}\n",
        "\n",
        "กลุ่ม1 กลุ่มคนที่หาของทานข้างทางที่สะดวก\n",
        "\n",
        "กลุ่ม2 กลุ่มคนรักชานมและเครื่องดื่ม\n",
        "\n",
        "กลุ่ม3 กลุ่มคนที่รักอาหารคาวที่รสชาติจัดจ้าน\n",
        "\n",
        "กลุ่ม4 กลุ่มคนที่ชอบแนว walk-in หรือตามหาร้านคาเฟ่ ที่ใช้ในการพักผ่อน หรือแค่แวะเข้ามาซื้อ\n",
        "\n"
      ]
    },
    {
      "cell_type": "code",
      "metadata": {
        "id": "ejf4FpxPavIl"
      },
      "source": [
        ""
      ],
      "execution_count": null,
      "outputs": []
    }
  ]
}